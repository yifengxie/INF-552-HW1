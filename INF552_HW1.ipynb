{
 "cells": [
  {
   "cell_type": "code",
   "execution_count": 92,
   "metadata": {
    "collapsed": true
   },
   "outputs": [],
   "source": [
    "import os\n",
    "import pydotplus \n",
    "import numpy as np\n",
    "import pandas as pd\n",
    "import matplotlib.pyplot as plt\n",
    "import seaborn as sns\n",
    "from scipy import interp\n",
    "from itertools import cycle\n",
    "\n",
    "import sklearn\n",
    "from sklearn import preprocessing,tree,svm,datasets,metrics\n",
    "from sklearn.cross_validation import train_test_split\n",
    "from sklearn.preprocessing import StandardScaler\n",
    "from sklearn.metrics import roc_curve, auc\n",
    "from sklearn.model_selection import train_test_split\n",
    "from sklearn.preprocessing import label_binarize\n",
    "from sklearn.multiclass import OneVsRestClassifier\n",
    "from sklearn.ensemble import RandomForestRegressor"
   ]
  },
  {
   "cell_type": "markdown",
   "metadata": {},
   "source": [
    "# data preprocessing"
   ]
  },
  {
   "cell_type": "markdown",
   "metadata": {},
   "source": [
    "  ## read data from csv file"
   ]
  },
  {
   "cell_type": "code",
   "execution_count": 93,
   "metadata": {
    "collapsed": true
   },
   "outputs": [],
   "source": [
    "dtype={'age':np.int64,\n",
    "        'job' : np.str_,\n",
    "        'marital' : np.str_,\n",
    "        'education' : np.str_,\n",
    "        'default' : np.str_,\n",
    "        'housing' : np.str_,\n",
    "        'loan':np.str_,\n",
    "        'contact' : np.str_,\n",
    "        'month' : np.str_,\n",
    "        'day_of_week' : np.str_,\n",
    "        'duration' : np.int64,\n",
    "        'campaign':np.int64,\n",
    "        'pdays':np.int64,\n",
    "        'previous':np.int64,\n",
    "        'poutcome':np.str_,\n",
    "        'emp.var.rate':np.float64,\n",
    "        'cons.price.idx':np.float64,\n",
    "        'cons.conf.idx':np.float64,\n",
    "        'euribor3m':np.float64,\n",
    "        'nr.employed':np.float64,\n",
    "        'y':np.str_}\n",
    "data = pd.read_csv(\"bank_clean.csv\",dtype=dtype, usecols=dtype)"
   ]
  },
  {
   "cell_type": "markdown",
   "metadata": {},
   "source": [
    "  ## data encoding"
   ]
  },
  {
   "cell_type": "code",
   "execution_count": 94,
   "metadata": {
    "collapsed": true
   },
   "outputs": [],
   "source": [
    "con_col = [i for i in data.columns if (data.dtypes[i] == 'int64') | (data.dtypes[i] == 'float64')]\n",
    "cat_col = [i for i in data.columns if (i not in con_col)]\n",
    "for col in cat_col:\n",
    "    LBL_Model = preprocessing.LabelEncoder()\n",
    "    LBL_Model.fit(data[col])\n",
    "    data[col] = LBL_Model.transform(data[col])"
   ]
  },
  {
   "cell_type": "markdown",
   "metadata": {},
   "source": [
    "  ## split training data and testing data"
   ]
  },
  {
   "cell_type": "code",
   "execution_count": 100,
   "metadata": {
    "collapsed": true
   },
   "outputs": [],
   "source": [
    "Train_X = data.drop('y',axis = 1)\n",
    "Y = data['y']\n",
    "X_train,X_test,Y_train,Y_test = train_test_split(Train_X,Y,test_size = 0.2)"
   ]
  },
  {
   "cell_type": "markdown",
   "metadata": {},
   "source": [
    "  ## data standard scaling"
   ]
  },
  {
   "cell_type": "code",
   "execution_count": 101,
   "metadata": {
    "collapsed": true
   },
   "outputs": [],
   "source": [
    "scaler = StandardScaler()\n",
    "scaler.fit(X_train)\n",
    "X_train = scaler.transform(X_train)\n",
    "X_test = scaler.transform(X_test)"
   ]
  },
  {
   "cell_type": "markdown",
   "metadata": {},
   "source": [
    "# machine learning models"
   ]
  },
  {
   "cell_type": "markdown",
   "metadata": {},
   "source": [
    "  ## use decision tree model"
   ]
  },
  {
   "cell_type": "code",
   "execution_count": 102,
   "metadata": {
    "collapsed": true
   },
   "outputs": [],
   "source": [
    "dt = tree.DecisionTreeClassifier()\n",
    "dt = dt.fit(X_train, Y_train)\n",
    "dt_params = dt.get_params()\n",
    "dt_prediction = dt.predict(X_test)"
   ]
  },
  {
   "cell_type": "markdown",
   "metadata": {},
   "source": [
    "  ## use svm model"
   ]
  },
  {
   "cell_type": "code",
   "execution_count": 103,
   "metadata": {
    "collapsed": true
   },
   "outputs": [],
   "source": [
    "svm_model = svm.SVC()\n",
    "svm_model.fit(X_train,Y_train)\n",
    "svm_params = svm_model.get_params()\n",
    "svm_prediction = svm_model.predict(X_test)"
   ]
  },
  {
   "cell_type": "markdown",
   "metadata": {},
   "source": [
    "# data visualization"
   ]
  },
  {
   "cell_type": "markdown",
   "metadata": {},
   "source": [
    "  ## plotting decision tree model"
   ]
  },
  {
   "cell_type": "markdown",
   "metadata": {},
   "source": [
    "   ### export dot file for plotting"
   ]
  },
  {
   "cell_type": "code",
   "execution_count": 105,
   "metadata": {
    "collapsed": true
   },
   "outputs": [],
   "source": [
    "with open(\"banking.dot\", 'w') as f:\n",
    "    f = tree.export_graphviz(dt, out_file=f)\n",
    "os.unlink('banking.dot')"
   ]
  },
  {
   "cell_type": "markdown",
   "metadata": {},
   "source": [
    "   ### plotting decision tree model and export to PDF file"
   ]
  },
  {
   "cell_type": "code",
   "execution_count": 106,
   "metadata": {},
   "outputs": [
    {
     "data": {
      "text/plain": [
       "True"
      ]
     },
     "execution_count": 106,
     "metadata": {},
     "output_type": "execute_result"
    }
   ],
   "source": [
    "dot_data = tree.export_graphviz(dt, out_file=None) \n",
    "graph = pydotplus.graph_from_dot_data(dot_data) \n",
    "graph.write_pdf(\"banking.pdf\")"
   ]
  },
  {
   "cell_type": "markdown",
   "metadata": {},
   "source": [
    "  ## plotting ROC curves of above models"
   ]
  },
  {
   "cell_type": "code",
   "execution_count": 104,
   "metadata": {},
   "outputs": [
    {
     "data": {
      "image/png": "[encoded data removed]",
      "text/plain": [
       "<matplotlib.figure.Figure at 0x11e207e90>"
      ]
     },
     "metadata": {},
     "output_type": "display_data"
    }
   ],
   "source": [
    "%matplotlib inline\n",
    "plt.figure(0).clf()\n",
    "\n",
    "def data_visualize(prediction,name):\n",
    "    fpr, tpr, thresh = metrics.roc_curve(Y_test, prediction)\n",
    "    auc = metrics.roc_auc_score(Y_test, prediction)\n",
    "    plt.plot(fpr,tpr,label = name + str(auc))\n",
    "    \n",
    "data_visualize(dt_prediction, \"desicion tree, auc = \")\n",
    "data_visualize(svm_prediction, \"SVM, auc = \")\n",
    "\n",
    "plt.legend(loc=0)\n",
    "plt.xlabel('FPR')\n",
    "plt.ylabel('TPR')\n",
    "plt.title('ROC CURVES')\n",
    "plt.grid(True)"
   ]
  },
  {
   "cell_type": "code",
   "execution_count": null,
   "metadata": {
    "collapsed": true
   },
   "outputs": [],
   "source": []
  }
 ],
 "metadata": {
  "kernelspec": {
   "display_name": "Python 2",
   "language": "python",
   "name": "python2"
  },
  "language_info": {
   "codemirror_mode": {
    "name": "ipython",
    "version": 2
   },
   "file_extension": ".py",
   "mimetype": "text/x-python",
   "name": "python",
   "nbconvert_exporter": "python",
   "pygments_lexer": "ipython2",
   "version": "2.7.13"
  }
 },
 "nbformat": 4,
 "nbformat_minor": 2
}
